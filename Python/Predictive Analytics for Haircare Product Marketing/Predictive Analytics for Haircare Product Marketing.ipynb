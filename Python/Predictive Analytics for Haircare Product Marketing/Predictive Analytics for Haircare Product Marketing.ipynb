{
 "cells": [
  {
   "cell_type": "code",
   "execution_count": null,
   "id": "08de71a1-22af-4027-9a10-06be49dcb843",
   "metadata": {},
   "outputs": [],
   "source": [
    "import pandas as pd\n",
    "from sklearn.model_selection import train_test_split\n",
    "from sklearn.tree import DecisionTreeClassifier\n",
    "from sklearn.ensemble import AdaBoostClassifier\n",
    "from sklearn.ensemble import BaggingClassifier\n",
    "from sklearn.ensemble import RandomForestClassifier\n",
    "from sklearn import preprocessing\n",
    "import dmba\n",
    "from dmba import classificationSummary\n",
    "import matplotlib.pyplot as plt\n",
    "import matplotlib\n",
    "\n",
    "from PIL import Image # i was having issues with the \"Interactive backend\" and this was the only way to display the visual"
   ]
  },
  {
   "cell_type": "code",
   "execution_count": null,
   "id": "00e4e20c-0ede-43da-8ae9-6822b0d586b9",
   "metadata": {},
   "outputs": [],
   "source": [
    "data = dmba.load_data('Hair-Care-Product.csv')\n",
    "data.columns = [d.replace('.', '_').replace(' ', '_').replace('__', '_') for d in data.columns]\n",
    "data.head()"
   ]
  },
  {
   "cell_type": "code",
   "execution_count": null,
   "id": "6e3bcf5b-0bf7-4769-93f8-dfe7a38269fe",
   "metadata": {},
   "outputs": [],
   "source": [
    "print(\"Number of purchases made\", sum(data['Purchase'] * data['Promotion_ord']))\n",
    "\n",
    "print(\"Total Number of Records\", sum(data['Promotion_ord']))\n",
    "\n",
    "print(\"80 / 4976 = \", sum(data['Purchase'] * data['Promotion_ord']) / sum(data['Promotion_ord']))"
   ]
  },
  {
   "cell_type": "code",
   "execution_count": null,
   "id": "a02fdede-35d4-4b0c-9dad-3ecca2bbec23",
   "metadata": {},
   "outputs": [],
   "source": [
    "print(\"Number of purchases made\", sum(data['Purchase'] * (1 - data['Promotion_ord'])))\n",
    "\n",
    "print(\"Total Number of Records\", sum(1 - data['Promotion_ord']))\n",
    "\n",
    "print(\"32 / 5024 = \", sum(data['Purchase'] * (1 - data['Promotion_ord'])) / sum(1 - data['Promotion_ord']))"
   ]
  },
  {
   "cell_type": "code",
   "execution_count": null,
   "id": "acd36195-6edb-48e7-85a8-7b59f90f9002",
   "metadata": {},
   "outputs": [],
   "source": [
    "data.columns"
   ]
  },
  {
   "cell_type": "code",
   "execution_count": null,
   "id": "e7df7f80-ebc3-4bec-bce3-127e794fe19a",
   "metadata": {},
   "outputs": [],
   "source": [
    "data.Hair_Color = data.Hair_Color.astype('category')\n",
    "data.U_S_Region = data.U_S_Region.astype('category')\n",
    "data = pd.get_dummies(data, drop_first = True)\n",
    "data.head()"
   ]
  },
  {
   "cell_type": "code",
   "execution_count": null,
   "id": "01c957e8-ebff-44f3-ab24-7bbfeab0a77e",
   "metadata": {},
   "outputs": [],
   "source": [
    "y = data['Purchase']\n",
    "x = data.drop(columns = ['Purchase'])\n",
    "\n",
    "scaler = preprocessing.StandardScaler()\n",
    "x_norm = scaler.fit_transform(x * 1.0)\n",
    "\n",
    "data_norm = pd.concat([pd.DataFrame(x_norm, columns = data.columns[1:]),\n",
    "                       data['Purchase']], axis = 1)\n",
    "train, valid = train_test_split(data_norm, test_size = 0.4, random_state = 1)"
   ]
  },
  {
   "cell_type": "code",
   "execution_count": null,
   "id": "df92b66e-91f6-4a52-9e44-387bb959a0d4",
   "metadata": {},
   "outputs": [],
   "source": [
    "rfModel = RandomForestClassifier(n_estimators = 100)\n",
    "rfModel.fit(train.drop(columns = ['Purchase']), train.Purchase)\n",
    "\n",
    "pred = rfModel.predict(valid.drop(columns = ['Purchase']))\n",
    "classificationSummary(valid.Purchase, pred)"
   ]
  },
  {
   "cell_type": "code",
   "execution_count": null,
   "id": "08f6b93d-1f8a-4122-990e-973a5e274703",
   "metadata": {},
   "outputs": [],
   "source": [
    "upliftDF = valid.drop(columns = ['Purchase']).copy()\n",
    "\n",
    "upliftDF.Promotion_ord = 1\n",
    "predTreatment = rfModel.predict_proba(upliftDF)\n",
    "upliftDF.Promotion_ord = 0\n",
    "predControl = rfModel.predict_proba(upliftDF)\n",
    "\n",
    "upliftResult_knn = pd.DataFrame({\n",
    "    'probMessage': predTreatment[:,1],\n",
    "    'probNoMessage': predControl[:,1],\n",
    "    'uplift': predTreatment[:,1] - predControl[:,1],\n",
    "    }, index = upliftDF.index)\n",
    "\n",
    "upliftResult = upliftResult_knn.sort_values(by=['uplift'], ascending=False)\n",
    "upliftResult.reset_index().plot(x = None, y = 'uplift')\n",
    "\n",
    "fig = plt.gcf()\n",
    "fig.savefig('plot.jpg', format = 'jpg', dpi = 300)\n",
    "\n",
    "image = Image.open('plot.jpg')\n",
    "image.show() #it'll create a pop up of the visual"
   ]
  },
  {
   "cell_type": "code",
   "execution_count": null,
   "id": "82cd5916-3397-49e6-9eb1-8a92ec214280",
   "metadata": {},
   "outputs": [],
   "source": [
    "upliftResult.head(3)"
   ]
  },
  {
   "cell_type": "code",
   "execution_count": null,
   "id": "7c4eed37-2d4d-4b3a-a639-890b589f1e51",
   "metadata": {},
   "outputs": [],
   "source": [
    "upliftResult_knn.head(3)"
   ]
  },
  {
   "cell_type": "code",
   "execution_count": null,
   "id": "3f5bdf02-afc8-49db-8177-7eaf667486ff",
   "metadata": {},
   "outputs": [],
   "source": []
  }
 ],
 "metadata": {
  "kernelspec": {
   "display_name": "Python 3 (ipykernel)",
   "language": "python",
   "name": "python3"
  },
  "language_info": {
   "codemirror_mode": {
    "name": "ipython",
    "version": 3
   },
   "file_extension": ".py",
   "mimetype": "text/x-python",
   "name": "python",
   "nbconvert_exporter": "python",
   "pygments_lexer": "ipython3",
   "version": "3.11.7"
  }
 },
 "nbformat": 4,
 "nbformat_minor": 5
}
