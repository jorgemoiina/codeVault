{
 "cells": [
  {
   "cell_type": "code",
   "execution_count": 2,
   "id": "08de71a1-22af-4027-9a10-06be49dcb843",
   "metadata": {},
   "outputs": [
    {
     "name": "stdout",
     "output_type": "stream",
     "text": [
      "no display found. Using non-interactive Agg backend\n"
     ]
    }
   ],
   "source": [
    "import pandas as pd\n",
    "from sklearn.model_selection import train_test_split\n",
    "from sklearn.tree import DecisionTreeClassifier\n",
    "from sklearn.ensemble import AdaBoostClassifier\n",
    "from sklearn.ensemble import BaggingClassifier\n",
    "from sklearn.ensemble import RandomForestClassifier\n",
    "from sklearn import preprocessing\n",
    "import dmba\n",
    "from dmba import classificationSummary\n",
    "import matplotlib.pyplot as plt\n",
    "import matplotlib\n",
    "\n",
    "from PIL import Image # i was having issues with the \"Interactive backend\" and this was the only way to display the visual"
   ]
  },
  {
   "cell_type": "code",
   "execution_count": 4,
   "id": "00e4e20c-0ede-43da-8ae9-6822b0d586b9",
   "metadata": {},
   "outputs": [
    {
     "data": {
      "text/html": [
       "<div>\n",
       "<style scoped>\n",
       "    .dataframe tbody tr th:only-of-type {\n",
       "        vertical-align: middle;\n",
       "    }\n",
       "\n",
       "    .dataframe tbody tr th {\n",
       "        vertical-align: top;\n",
       "    }\n",
       "\n",
       "    .dataframe thead th {\n",
       "        text-align: right;\n",
       "    }\n",
       "</style>\n",
       "<table border=\"1\" class=\"dataframe\">\n",
       "  <thead>\n",
       "    <tr style=\"text-align: right;\">\n",
       "      <th></th>\n",
       "      <th>Purchase</th>\n",
       "      <th>Age</th>\n",
       "      <th>Hair_Color</th>\n",
       "      <th>U_S_Region</th>\n",
       "      <th>Validation</th>\n",
       "      <th>Promotion_ord</th>\n",
       "      <th>Gender_ord</th>\n",
       "      <th>Residence_ord</th>\n",
       "    </tr>\n",
       "  </thead>\n",
       "  <tbody>\n",
       "    <tr>\n",
       "      <th>0</th>\n",
       "      <td>0</td>\n",
       "      <td>25</td>\n",
       "      <td>Black</td>\n",
       "      <td>Southwest</td>\n",
       "      <td>1</td>\n",
       "      <td>1</td>\n",
       "      <td>0</td>\n",
       "      <td>1</td>\n",
       "    </tr>\n",
       "    <tr>\n",
       "      <th>1</th>\n",
       "      <td>0</td>\n",
       "      <td>30</td>\n",
       "      <td>Black</td>\n",
       "      <td>Northwest</td>\n",
       "      <td>1</td>\n",
       "      <td>0</td>\n",
       "      <td>0</td>\n",
       "      <td>1</td>\n",
       "    </tr>\n",
       "    <tr>\n",
       "      <th>2</th>\n",
       "      <td>0</td>\n",
       "      <td>45</td>\n",
       "      <td>Red</td>\n",
       "      <td>Northeast</td>\n",
       "      <td>1</td>\n",
       "      <td>0</td>\n",
       "      <td>0</td>\n",
       "      <td>0</td>\n",
       "    </tr>\n",
       "    <tr>\n",
       "      <th>3</th>\n",
       "      <td>0</td>\n",
       "      <td>35</td>\n",
       "      <td>Blond</td>\n",
       "      <td>Southwest</td>\n",
       "      <td>0</td>\n",
       "      <td>0</td>\n",
       "      <td>0</td>\n",
       "      <td>1</td>\n",
       "    </tr>\n",
       "    <tr>\n",
       "      <th>4</th>\n",
       "      <td>0</td>\n",
       "      <td>33</td>\n",
       "      <td>Brown</td>\n",
       "      <td>Southwest</td>\n",
       "      <td>0</td>\n",
       "      <td>1</td>\n",
       "      <td>0</td>\n",
       "      <td>1</td>\n",
       "    </tr>\n",
       "  </tbody>\n",
       "</table>\n",
       "</div>"
      ],
      "text/plain": [
       "   Purchase  Age Hair_Color U_S_Region  Validation  Promotion_ord  Gender_ord  \\\n",
       "0         0   25      Black  Southwest           1              1           0   \n",
       "1         0   30      Black  Northwest           1              0           0   \n",
       "2         0   45        Red  Northeast           1              0           0   \n",
       "3         0   35      Blond  Southwest           0              0           0   \n",
       "4         0   33      Brown  Southwest           0              1           0   \n",
       "\n",
       "   Residence_ord  \n",
       "0              1  \n",
       "1              1  \n",
       "2              0  \n",
       "3              1  \n",
       "4              1  "
      ]
     },
     "execution_count": 4,
     "metadata": {},
     "output_type": "execute_result"
    }
   ],
   "source": [
    "data = dmba.load_data('Hair-Care-Product.csv')\n",
    "data.columns = [d.replace('.', '_').replace(' ', '_').replace('__', '_') for d in data.columns]\n",
    "data.head()"
   ]
  },
  {
   "cell_type": "code",
   "execution_count": 6,
   "id": "6e3bcf5b-0bf7-4769-93f8-dfe7a38269fe",
   "metadata": {},
   "outputs": [
    {
     "name": "stdout",
     "output_type": "stream",
     "text": [
      "Number of purchases made 80\n",
      "Total Number of Records 4976\n",
      "80 / 4976 =  0.01607717041800643\n"
     ]
    }
   ],
   "source": [
    "print(\"Number of purchases made\", sum(data['Purchase'] * data['Promotion_ord']))\n",
    "\n",
    "print(\"Total Number of Records\", sum(data['Promotion_ord']))\n",
    "\n",
    "print(\"80 / 4976 = \", sum(data['Purchase'] * data['Promotion_ord']) / sum(data['Promotion_ord']))"
   ]
  },
  {
   "cell_type": "code",
   "execution_count": 8,
   "id": "a02fdede-35d4-4b0c-9dad-3ecca2bbec23",
   "metadata": {},
   "outputs": [
    {
     "name": "stdout",
     "output_type": "stream",
     "text": [
      "Number of purchases made 32\n",
      "Total Number of Records 5024\n",
      "32 / 5024 =  0.006369426751592357\n"
     ]
    }
   ],
   "source": [
    "print(\"Number of purchases made\", sum(data['Purchase'] * (1 - data['Promotion_ord'])))\n",
    "\n",
    "print(\"Total Number of Records\", sum(1 - data['Promotion_ord']))\n",
    "\n",
    "print(\"32 / 5024 = \", sum(data['Purchase'] * (1 - data['Promotion_ord'])) / sum(1 - data['Promotion_ord']))"
   ]
  },
  {
   "cell_type": "code",
   "execution_count": 10,
   "id": "acd36195-6edb-48e7-85a8-7b59f90f9002",
   "metadata": {},
   "outputs": [
    {
     "data": {
      "text/plain": [
       "Index(['Purchase', 'Age', 'Hair_Color', 'U_S_Region', 'Validation',\n",
       "       'Promotion_ord', 'Gender_ord', 'Residence_ord'],\n",
       "      dtype='object')"
      ]
     },
     "execution_count": 10,
     "metadata": {},
     "output_type": "execute_result"
    }
   ],
   "source": [
    "data.columns"
   ]
  },
  {
   "cell_type": "code",
   "execution_count": 12,
   "id": "e7df7f80-ebc3-4bec-bce3-127e794fe19a",
   "metadata": {},
   "outputs": [
    {
     "data": {
      "text/html": [
       "<div>\n",
       "<style scoped>\n",
       "    .dataframe tbody tr th:only-of-type {\n",
       "        vertical-align: middle;\n",
       "    }\n",
       "\n",
       "    .dataframe tbody tr th {\n",
       "        vertical-align: top;\n",
       "    }\n",
       "\n",
       "    .dataframe thead th {\n",
       "        text-align: right;\n",
       "    }\n",
       "</style>\n",
       "<table border=\"1\" class=\"dataframe\">\n",
       "  <thead>\n",
       "    <tr style=\"text-align: right;\">\n",
       "      <th></th>\n",
       "      <th>Purchase</th>\n",
       "      <th>Age</th>\n",
       "      <th>Validation</th>\n",
       "      <th>Promotion_ord</th>\n",
       "      <th>Gender_ord</th>\n",
       "      <th>Residence_ord</th>\n",
       "      <th>Hair_Color_Blond</th>\n",
       "      <th>Hair_Color_Brown</th>\n",
       "      <th>Hair_Color_Red</th>\n",
       "      <th>U_S_Region_Northwest</th>\n",
       "      <th>U_S_Region_Southeast</th>\n",
       "      <th>U_S_Region_Southwest</th>\n",
       "    </tr>\n",
       "  </thead>\n",
       "  <tbody>\n",
       "    <tr>\n",
       "      <th>0</th>\n",
       "      <td>0</td>\n",
       "      <td>25</td>\n",
       "      <td>1</td>\n",
       "      <td>1</td>\n",
       "      <td>0</td>\n",
       "      <td>1</td>\n",
       "      <td>False</td>\n",
       "      <td>False</td>\n",
       "      <td>False</td>\n",
       "      <td>False</td>\n",
       "      <td>False</td>\n",
       "      <td>True</td>\n",
       "    </tr>\n",
       "    <tr>\n",
       "      <th>1</th>\n",
       "      <td>0</td>\n",
       "      <td>30</td>\n",
       "      <td>1</td>\n",
       "      <td>0</td>\n",
       "      <td>0</td>\n",
       "      <td>1</td>\n",
       "      <td>False</td>\n",
       "      <td>False</td>\n",
       "      <td>False</td>\n",
       "      <td>True</td>\n",
       "      <td>False</td>\n",
       "      <td>False</td>\n",
       "    </tr>\n",
       "    <tr>\n",
       "      <th>2</th>\n",
       "      <td>0</td>\n",
       "      <td>45</td>\n",
       "      <td>1</td>\n",
       "      <td>0</td>\n",
       "      <td>0</td>\n",
       "      <td>0</td>\n",
       "      <td>False</td>\n",
       "      <td>False</td>\n",
       "      <td>True</td>\n",
       "      <td>False</td>\n",
       "      <td>False</td>\n",
       "      <td>False</td>\n",
       "    </tr>\n",
       "    <tr>\n",
       "      <th>3</th>\n",
       "      <td>0</td>\n",
       "      <td>35</td>\n",
       "      <td>0</td>\n",
       "      <td>0</td>\n",
       "      <td>0</td>\n",
       "      <td>1</td>\n",
       "      <td>True</td>\n",
       "      <td>False</td>\n",
       "      <td>False</td>\n",
       "      <td>False</td>\n",
       "      <td>False</td>\n",
       "      <td>True</td>\n",
       "    </tr>\n",
       "    <tr>\n",
       "      <th>4</th>\n",
       "      <td>0</td>\n",
       "      <td>33</td>\n",
       "      <td>0</td>\n",
       "      <td>1</td>\n",
       "      <td>0</td>\n",
       "      <td>1</td>\n",
       "      <td>False</td>\n",
       "      <td>True</td>\n",
       "      <td>False</td>\n",
       "      <td>False</td>\n",
       "      <td>False</td>\n",
       "      <td>True</td>\n",
       "    </tr>\n",
       "  </tbody>\n",
       "</table>\n",
       "</div>"
      ],
      "text/plain": [
       "   Purchase  Age  Validation  Promotion_ord  Gender_ord  Residence_ord  \\\n",
       "0         0   25           1              1           0              1   \n",
       "1         0   30           1              0           0              1   \n",
       "2         0   45           1              0           0              0   \n",
       "3         0   35           0              0           0              1   \n",
       "4         0   33           0              1           0              1   \n",
       "\n",
       "   Hair_Color_Blond  Hair_Color_Brown  Hair_Color_Red  U_S_Region_Northwest  \\\n",
       "0             False             False           False                 False   \n",
       "1             False             False           False                  True   \n",
       "2             False             False            True                 False   \n",
       "3              True             False           False                 False   \n",
       "4             False              True           False                 False   \n",
       "\n",
       "   U_S_Region_Southeast  U_S_Region_Southwest  \n",
       "0                 False                  True  \n",
       "1                 False                 False  \n",
       "2                 False                 False  \n",
       "3                 False                  True  \n",
       "4                 False                  True  "
      ]
     },
     "execution_count": 12,
     "metadata": {},
     "output_type": "execute_result"
    }
   ],
   "source": [
    "data.Hair_Color = data.Hair_Color.astype('category')\n",
    "data.U_S_Region = data.U_S_Region.astype('category')\n",
    "data = pd.get_dummies(data, drop_first = True)\n",
    "data.head()"
   ]
  },
  {
   "cell_type": "code",
   "execution_count": 14,
   "id": "01c957e8-ebff-44f3-ab24-7bbfeab0a77e",
   "metadata": {},
   "outputs": [],
   "source": [
    "y = data['Purchase']\n",
    "x = data.drop(columns = ['Purchase'])\n",
    "\n",
    "scaler = preprocessing.StandardScaler()\n",
    "x_norm = scaler.fit_transform(x * 1.0)\n",
    "\n",
    "data_norm = pd.concat([pd.DataFrame(x_norm, columns = data.columns[1:]),\n",
    "                       data['Purchase']], axis = 1)\n",
    "train, valid = train_test_split(data_norm, test_size = 0.4, random_state = 1)"
   ]
  },
  {
   "cell_type": "code",
   "execution_count": 16,
   "id": "df92b66e-91f6-4a52-9e44-387bb959a0d4",
   "metadata": {},
   "outputs": [
    {
     "name": "stdout",
     "output_type": "stream",
     "text": [
      "Confusion Matrix (Accuracy 0.9840)\n",
      "\n",
      "       Prediction\n",
      "Actual    0    1\n",
      "     0 3936   12\n",
      "     1   52    0\n"
     ]
    }
   ],
   "source": [
    "rfModel = RandomForestClassifier(n_estimators = 100)\n",
    "rfModel.fit(train.drop(columns = ['Purchase']), train.Purchase)\n",
    "\n",
    "pred = rfModel.predict(valid.drop(columns = ['Purchase']))\n",
    "classificationSummary(valid.Purchase, pred)"
   ]
  },
  {
   "cell_type": "code",
   "execution_count": 18,
   "id": "08f6b93d-1f8a-4122-990e-973a5e274703",
   "metadata": {},
   "outputs": [],
   "source": [
    "upliftDF = valid.drop(columns = ['Purchase']).copy()\n",
    "\n",
    "upliftDF.Promotion_ord = 1\n",
    "predTreatment = rfModel.predict_proba(upliftDF)\n",
    "upliftDF.Promotion_ord = 0\n",
    "predControl = rfModel.predict_proba(upliftDF)\n",
    "\n",
    "upliftResult_knn = pd.DataFrame({\n",
    "    'probMessage': predTreatment[:,1],\n",
    "    'probNoMessage': predControl[:,1],\n",
    "    'uplift': predTreatment[:,1] - predControl[:,1],\n",
    "    }, index = upliftDF.index)\n",
    "\n",
    "upliftResult = upliftResult_knn.sort_values(by=['uplift'], ascending=False)\n",
    "upliftResult.reset_index().plot(x = None, y = 'uplift')\n",
    "\n",
    "fig = plt.gcf()\n",
    "fig.savefig('plot.jpg', format = 'jpg', dpi = 300)\n",
    "\n",
    "image = Image.open('plot.jpg')\n",
    "image.show() #it'll create a pop up of the visual"
   ]
  },
  {
   "cell_type": "code",
   "execution_count": 19,
   "id": "82cd5916-3397-49e6-9eb1-8a92ec214280",
   "metadata": {},
   "outputs": [
    {
     "data": {
      "text/html": [
       "<div>\n",
       "<style scoped>\n",
       "    .dataframe tbody tr th:only-of-type {\n",
       "        vertical-align: middle;\n",
       "    }\n",
       "\n",
       "    .dataframe tbody tr th {\n",
       "        vertical-align: top;\n",
       "    }\n",
       "\n",
       "    .dataframe thead th {\n",
       "        text-align: right;\n",
       "    }\n",
       "</style>\n",
       "<table border=\"1\" class=\"dataframe\">\n",
       "  <thead>\n",
       "    <tr style=\"text-align: right;\">\n",
       "      <th></th>\n",
       "      <th>probMessage</th>\n",
       "      <th>probNoMessage</th>\n",
       "      <th>uplift</th>\n",
       "    </tr>\n",
       "  </thead>\n",
       "  <tbody>\n",
       "    <tr>\n",
       "      <th>6751</th>\n",
       "      <td>0.723333</td>\n",
       "      <td>0.02</td>\n",
       "      <td>0.703333</td>\n",
       "    </tr>\n",
       "    <tr>\n",
       "      <th>201</th>\n",
       "      <td>0.723333</td>\n",
       "      <td>0.02</td>\n",
       "      <td>0.703333</td>\n",
       "    </tr>\n",
       "    <tr>\n",
       "      <th>4814</th>\n",
       "      <td>0.660000</td>\n",
       "      <td>0.03</td>\n",
       "      <td>0.630000</td>\n",
       "    </tr>\n",
       "  </tbody>\n",
       "</table>\n",
       "</div>"
      ],
      "text/plain": [
       "      probMessage  probNoMessage    uplift\n",
       "6751     0.723333           0.02  0.703333\n",
       "201      0.723333           0.02  0.703333\n",
       "4814     0.660000           0.03  0.630000"
      ]
     },
     "execution_count": 19,
     "metadata": {},
     "output_type": "execute_result"
    }
   ],
   "source": [
    "upliftResult.head(3)"
   ]
  },
  {
   "cell_type": "code",
   "execution_count": 22,
   "id": "7c4eed37-2d4d-4b3a-a639-890b589f1e51",
   "metadata": {},
   "outputs": [
    {
     "data": {
      "text/html": [
       "<div>\n",
       "<style scoped>\n",
       "    .dataframe tbody tr th:only-of-type {\n",
       "        vertical-align: middle;\n",
       "    }\n",
       "\n",
       "    .dataframe tbody tr th {\n",
       "        vertical-align: top;\n",
       "    }\n",
       "\n",
       "    .dataframe thead th {\n",
       "        text-align: right;\n",
       "    }\n",
       "</style>\n",
       "<table border=\"1\" class=\"dataframe\">\n",
       "  <thead>\n",
       "    <tr style=\"text-align: right;\">\n",
       "      <th></th>\n",
       "      <th>probMessage</th>\n",
       "      <th>probNoMessage</th>\n",
       "      <th>uplift</th>\n",
       "    </tr>\n",
       "  </thead>\n",
       "  <tbody>\n",
       "    <tr>\n",
       "      <th>9953</th>\n",
       "      <td>0.000000</td>\n",
       "      <td>0.0</td>\n",
       "      <td>0.000000</td>\n",
       "    </tr>\n",
       "    <tr>\n",
       "      <th>3850</th>\n",
       "      <td>0.033333</td>\n",
       "      <td>0.0</td>\n",
       "      <td>0.033333</td>\n",
       "    </tr>\n",
       "    <tr>\n",
       "      <th>4962</th>\n",
       "      <td>0.000000</td>\n",
       "      <td>0.0</td>\n",
       "      <td>0.000000</td>\n",
       "    </tr>\n",
       "  </tbody>\n",
       "</table>\n",
       "</div>"
      ],
      "text/plain": [
       "      probMessage  probNoMessage    uplift\n",
       "9953     0.000000            0.0  0.000000\n",
       "3850     0.033333            0.0  0.033333\n",
       "4962     0.000000            0.0  0.000000"
      ]
     },
     "execution_count": 22,
     "metadata": {},
     "output_type": "execute_result"
    }
   ],
   "source": [
    "upliftResult_knn.head(3)"
   ]
  },
  {
   "cell_type": "code",
   "execution_count": null,
   "id": "3f5bdf02-afc8-49db-8177-7eaf667486ff",
   "metadata": {},
   "outputs": [],
   "source": []
  }
 ],
 "metadata": {
  "kernelspec": {
   "display_name": "Python 3 (ipykernel)",
   "language": "python",
   "name": "python3"
  },
  "language_info": {
   "codemirror_mode": {
    "name": "ipython",
    "version": 3
   },
   "file_extension": ".py",
   "mimetype": "text/x-python",
   "name": "python",
   "nbconvert_exporter": "python",
   "pygments_lexer": "ipython3",
   "version": "3.11.7"
  }
 },
 "nbformat": 4,
 "nbformat_minor": 5
}
