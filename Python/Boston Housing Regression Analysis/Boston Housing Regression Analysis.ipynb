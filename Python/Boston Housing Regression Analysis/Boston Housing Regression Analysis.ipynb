{
 "cells": [
  {
   "cell_type": "code",
   "execution_count": 1,
   "id": "354971a0-9f75-4f69-bf54-fb8cc6c716ef",
   "metadata": {},
   "outputs": [
    {
     "name": "stdout",
     "output_type": "stream",
     "text": [
      "no display found. Using non-interactive Agg backend\n"
     ]
    }
   ],
   "source": [
    "import pandas as pd\n",
    "from sklearn.model_selection import train_test_split\n",
    "from sklearn.linear_model import LinearRegression, Lasso, Ridge, LassoCV, BayesianRidge\n",
    "import statsmodels.formula.api as sm\n",
    "import matplotlib.pylab as plt\n",
    "from dmba import regressionSummary, exhaustive_search\n",
    "from dmba import backward_elimination, forward_selection, stepwise_selection\n",
    "from dmba import adjusted_r2_score, AIC_score, BIC_score"
   ]
  },
  {
   "cell_type": "markdown",
   "id": "db794546-0fd2-40aa-99ba-e931b372d25a",
   "metadata": {},
   "source": [
    "6.1"
   ]
  },
  {
   "cell_type": "code",
   "execution_count": 4,
   "id": "45f0a460-f93d-467b-a909-9986a59a0ad0",
   "metadata": {},
   "outputs": [
    {
     "name": "stdout",
     "output_type": "stream",
     "text": [
      "        CRIM    ZN  INDUS  CHAS    NOX     RM   AGE     DIS  RAD  TAX  \\\n",
      "0    0.00632  18.0   2.31     0  0.538  6.575  65.2  4.0900    1  296   \n",
      "1    0.02731   0.0   7.07     0  0.469  6.421  78.9  4.9671    2  242   \n",
      "2    0.02729   0.0   7.07     0  0.469  7.185  61.1  4.9671    2  242   \n",
      "3    0.03237   0.0   2.18     0  0.458  6.998  45.8  6.0622    3  222   \n",
      "4    0.06905   0.0   2.18     0  0.458  7.147  54.2  6.0622    3  222   \n",
      "..       ...   ...    ...   ...    ...    ...   ...     ...  ...  ...   \n",
      "501  0.06263   0.0  11.93     0  0.573  6.593  69.1  2.4786    1  273   \n",
      "502  0.04527   0.0  11.93     0  0.573  6.120  76.7  2.2875    1  273   \n",
      "503  0.06076   0.0  11.93     0  0.573  6.976  91.0  2.1675    1  273   \n",
      "504  0.10959   0.0  11.93     0  0.573  6.794  89.3  2.3889    1  273   \n",
      "505  0.04741   0.0  11.93     0  0.573  6.030  80.8  2.5050    1  273   \n",
      "\n",
      "     PTRATIO  LSTAT  MEDV  CAT. MEDV  \n",
      "0       15.3   4.98  24.0          0  \n",
      "1       17.8   9.14  21.6          0  \n",
      "2       17.8   4.03  34.7          1  \n",
      "3       18.7   2.94  33.4          1  \n",
      "4       18.7   5.33  36.2          1  \n",
      "..       ...    ...   ...        ...  \n",
      "501     21.0   9.67  22.4          0  \n",
      "502     21.0   9.08  20.6          0  \n",
      "503     21.0   5.64  23.9          0  \n",
      "504     21.0   6.48  22.0          0  \n",
      "505     21.0   7.88  11.9          0  \n",
      "\n",
      "[506 rows x 14 columns]\n"
     ]
    }
   ],
   "source": [
    "bostonDF = pd.read_csv('/Users/jorgemolina/Desktop/school stuff and pdfs/MSBA/spring 2024/springModule2/6359Francis/DMBA-R-datasets/DMBA-R-datasets/BostonHousing.csv')\n",
    "print(bostonDF)"
   ]
  },
  {
   "cell_type": "code",
   "execution_count": 6,
   "id": "010b003e-2349-4a3d-933b-533e837668fc",
   "metadata": {},
   "outputs": [],
   "source": [
    "predictors = ['CRIM', 'CHAS', 'RM']\n",
    "outcome = 'MEDV'"
   ]
  },
  {
   "cell_type": "code",
   "execution_count": 8,
   "id": "9d1c0fe1-0afd-492b-a8b3-4aa62d484a7f",
   "metadata": {},
   "outputs": [],
   "source": [
    "x =  pd.get_dummies(bostonDF[predictors], drop_first=True)\n",
    "y = bostonDF[outcome]\n",
    "train_x, valid_x, train_y, valid_y = train_test_split(x, y, test_size = 0.4, random_state = 1)"
   ]
  },
  {
   "cell_type": "code",
   "execution_count": 10,
   "id": "d30466d3-a112-4fbe-86d3-7ba0e805aa94",
   "metadata": {},
   "outputs": [
    {
     "data": {
      "text/html": [
       "<style>#sk-container-id-1 {color: black;background-color: white;}#sk-container-id-1 pre{padding: 0;}#sk-container-id-1 div.sk-toggleable {background-color: white;}#sk-container-id-1 label.sk-toggleable__label {cursor: pointer;display: block;width: 100%;margin-bottom: 0;padding: 0.3em;box-sizing: border-box;text-align: center;}#sk-container-id-1 label.sk-toggleable__label-arrow:before {content: \"▸\";float: left;margin-right: 0.25em;color: #696969;}#sk-container-id-1 label.sk-toggleable__label-arrow:hover:before {color: black;}#sk-container-id-1 div.sk-estimator:hover label.sk-toggleable__label-arrow:before {color: black;}#sk-container-id-1 div.sk-toggleable__content {max-height: 0;max-width: 0;overflow: hidden;text-align: left;background-color: #f0f8ff;}#sk-container-id-1 div.sk-toggleable__content pre {margin: 0.2em;color: black;border-radius: 0.25em;background-color: #f0f8ff;}#sk-container-id-1 input.sk-toggleable__control:checked~div.sk-toggleable__content {max-height: 200px;max-width: 100%;overflow: auto;}#sk-container-id-1 input.sk-toggleable__control:checked~label.sk-toggleable__label-arrow:before {content: \"▾\";}#sk-container-id-1 div.sk-estimator input.sk-toggleable__control:checked~label.sk-toggleable__label {background-color: #d4ebff;}#sk-container-id-1 div.sk-label input.sk-toggleable__control:checked~label.sk-toggleable__label {background-color: #d4ebff;}#sk-container-id-1 input.sk-hidden--visually {border: 0;clip: rect(1px 1px 1px 1px);clip: rect(1px, 1px, 1px, 1px);height: 1px;margin: -1px;overflow: hidden;padding: 0;position: absolute;width: 1px;}#sk-container-id-1 div.sk-estimator {font-family: monospace;background-color: #f0f8ff;border: 1px dotted black;border-radius: 0.25em;box-sizing: border-box;margin-bottom: 0.5em;}#sk-container-id-1 div.sk-estimator:hover {background-color: #d4ebff;}#sk-container-id-1 div.sk-parallel-item::after {content: \"\";width: 100%;border-bottom: 1px solid gray;flex-grow: 1;}#sk-container-id-1 div.sk-label:hover label.sk-toggleable__label {background-color: #d4ebff;}#sk-container-id-1 div.sk-serial::before {content: \"\";position: absolute;border-left: 1px solid gray;box-sizing: border-box;top: 0;bottom: 0;left: 50%;z-index: 0;}#sk-container-id-1 div.sk-serial {display: flex;flex-direction: column;align-items: center;background-color: white;padding-right: 0.2em;padding-left: 0.2em;position: relative;}#sk-container-id-1 div.sk-item {position: relative;z-index: 1;}#sk-container-id-1 div.sk-parallel {display: flex;align-items: stretch;justify-content: center;background-color: white;position: relative;}#sk-container-id-1 div.sk-item::before, #sk-container-id-1 div.sk-parallel-item::before {content: \"\";position: absolute;border-left: 1px solid gray;box-sizing: border-box;top: 0;bottom: 0;left: 50%;z-index: -1;}#sk-container-id-1 div.sk-parallel-item {display: flex;flex-direction: column;z-index: 1;position: relative;background-color: white;}#sk-container-id-1 div.sk-parallel-item:first-child::after {align-self: flex-end;width: 50%;}#sk-container-id-1 div.sk-parallel-item:last-child::after {align-self: flex-start;width: 50%;}#sk-container-id-1 div.sk-parallel-item:only-child::after {width: 0;}#sk-container-id-1 div.sk-dashed-wrapped {border: 1px dashed gray;margin: 0 0.4em 0.5em 0.4em;box-sizing: border-box;padding-bottom: 0.4em;background-color: white;}#sk-container-id-1 div.sk-label label {font-family: monospace;font-weight: bold;display: inline-block;line-height: 1.2em;}#sk-container-id-1 div.sk-label-container {text-align: center;}#sk-container-id-1 div.sk-container {/* jupyter's `normalize.less` sets `[hidden] { display: none; }` but bootstrap.min.css set `[hidden] { display: none !important; }` so we also need the `!important` here to be able to override the default hidden behavior on the sphinx rendered scikit-learn.org. See: https://github.com/scikit-learn/scikit-learn/issues/21755 */display: inline-block !important;position: relative;}#sk-container-id-1 div.sk-text-repr-fallback {display: none;}</style><div id=\"sk-container-id-1\" class=\"sk-top-container\"><div class=\"sk-text-repr-fallback\"><pre>LinearRegression()</pre><b>In a Jupyter environment, please rerun this cell to show the HTML representation or trust the notebook. <br />On GitHub, the HTML representation is unable to render, please try loading this page with nbviewer.org.</b></div><div class=\"sk-container\" hidden><div class=\"sk-item\"><div class=\"sk-estimator sk-toggleable\"><input class=\"sk-toggleable__control sk-hidden--visually\" id=\"sk-estimator-id-1\" type=\"checkbox\" checked><label for=\"sk-estimator-id-1\" class=\"sk-toggleable__label sk-toggleable__label-arrow\">LinearRegression</label><div class=\"sk-toggleable__content\"><pre>LinearRegression()</pre></div></div></div></div></div>"
      ],
      "text/plain": [
       "LinearRegression()"
      ]
     },
     "execution_count": 10,
     "metadata": {},
     "output_type": "execute_result"
    }
   ],
   "source": [
    "bostonLM = LinearRegression()\n",
    "bostonLM.fit(train_x, train_y)"
   ]
  },
  {
   "cell_type": "code",
   "execution_count": 12,
   "id": "1f32135c-160d-41b2-9274-3e26fc050212",
   "metadata": {},
   "outputs": [
    {
     "name": "stdout",
     "output_type": "stream",
     "text": [
      "  Predictor  coefficient\n",
      "0      CRIM    -0.240062\n",
      "1      CHAS     3.266817\n",
      "2        RM     8.325175\n"
     ]
    }
   ],
   "source": [
    "print(pd.DataFrame({'Predictor': x.columns, 'coefficient': bostonLM.coef_}))"
   ]
  },
  {
   "cell_type": "code",
   "execution_count": 14,
   "id": "89f6033c-c34a-4a00-bcda-4eccbcd4412d",
   "metadata": {},
   "outputs": [
    {
     "name": "stdout",
     "output_type": "stream",
     "text": [
      "\n",
      "Regression statistics\n",
      "\n",
      "                      Mean Error (ME) : -0.0000\n",
      "       Root Mean Squared Error (RMSE) : 5.9666\n",
      "            Mean Absolute Error (MAE) : 3.9668\n",
      "          Mean Percentage Error (MPE) : -7.2747\n",
      "Mean Absolute Percentage Error (MAPE) : 22.5927\n"
     ]
    }
   ],
   "source": [
    "regressionSummary(train_y, bostonLM.predict(train_x))"
   ]
  },
  {
   "cell_type": "code",
   "execution_count": 16,
   "id": "a5d8eee5-3740-4c99-88dc-6161ab9f2c9d",
   "metadata": {},
   "outputs": [
    {
     "name": "stdout",
     "output_type": "stream",
     "text": [
      "True Median House Price: [50.84479785]\n"
     ]
    },
    {
     "name": "stderr",
     "output_type": "stream",
     "text": [
      "/opt/anaconda3/lib/python3.11/site-packages/sklearn/base.py:439: UserWarning: X does not have valid feature names, but LinearRegression was fitted with feature names\n",
      "  warnings.warn(\n"
     ]
    }
   ],
   "source": [
    "CRIM_coef = -0.240062\n",
    "CHAS_coef = 3.266817\n",
    "RM_coef = 8.325175\n",
    "trueMEDV = bostonLM.predict([[CRIM_coef, CHAS_coef, RM_coef]])\n",
    "print(\"True Median House Price:\", trueMEDV)"
   ]
  },
  {
   "cell_type": "code",
   "execution_count": 18,
   "id": "40eb8115-6990-4eac-a68e-f66d9a5f3c7f",
   "metadata": {},
   "outputs": [
    {
     "name": "stdout",
     "output_type": "stream",
     "text": [
      "Predicted Median House Price: [20.73357813]\n"
     ]
    },
    {
     "name": "stderr",
     "output_type": "stream",
     "text": [
      "/opt/anaconda3/lib/python3.11/site-packages/sklearn/base.py:439: UserWarning: X does not have valid feature names, but LinearRegression was fitted with feature names\n",
      "  warnings.warn(\n"
     ]
    }
   ],
   "source": [
    "eCRIM = 0.1\n",
    "eCHAS = 0\n",
    "eRM = 6\n",
    "predictedMEDV = bostonLM.predict([[eCRIM, eCHAS, eRM]])\n",
    "print(\"Predicted Median House Price:\", predictedMEDV)"
   ]
  },
  {
   "cell_type": "code",
   "execution_count": 20,
   "id": "b15142e7-66d8-4f63-96c7-09511eec0fdb",
   "metadata": {},
   "outputs": [
    {
     "name": "stdout",
     "output_type": "stream",
     "text": [
      "Prediction Error: [30.11121972]\n"
     ]
    }
   ],
   "source": [
    "prediction_error = trueMEDV - predictedMEDV\n",
    "print(\"Prediction Error:\", prediction_error)"
   ]
  },
  {
   "cell_type": "markdown",
   "id": "ce626656-dfb8-4384-9c36-c18b9b88b11b",
   "metadata": {},
   "source": [
    "i. \n",
    "corr matrix for NOX, TAX, INDUS"
   ]
  },
  {
   "cell_type": "code",
   "execution_count": 23,
   "id": "514a8a9b-0489-440b-a548-46161c711ccc",
   "metadata": {},
   "outputs": [],
   "source": [
    "import seaborn as sns"
   ]
  },
  {
   "cell_type": "code",
   "execution_count": 25,
   "id": "45121a33-506b-4334-bb07-bcf44faca402",
   "metadata": {},
   "outputs": [
    {
     "name": "stdout",
     "output_type": "stream",
     "text": [
      "       NOX  TAX  INDUS\n",
      "0    0.538  296   2.31\n",
      "1    0.469  242   7.07\n",
      "2    0.469  242   7.07\n",
      "3    0.458  222   2.18\n",
      "4    0.458  222   2.18\n",
      "..     ...  ...    ...\n",
      "501  0.573  273  11.93\n",
      "502  0.573  273  11.93\n",
      "503  0.573  273  11.93\n",
      "504  0.573  273  11.93\n",
      "505  0.573  273  11.93\n",
      "\n",
      "[506 rows x 3 columns]\n"
     ]
    }
   ],
   "source": [
    "selected_predictors = ['NOX', 'TAX', 'INDUS']\n",
    "subBoston = bostonDF[selected_predictors]\n",
    "print(subBoston)"
   ]
  },
  {
   "cell_type": "code",
   "execution_count": 27,
   "id": "672ea272-4a56-4d11-9a2d-dfffe7d76d9b",
   "metadata": {},
   "outputs": [],
   "source": [
    "corrMatrix = subBoston.corr()"
   ]
  },
  {
   "cell_type": "code",
   "execution_count": 29,
   "id": "832df950-5977-4c12-ae33-65c956c30498",
   "metadata": {},
   "outputs": [],
   "source": [
    "plt.figure(figsize = (8,6))\n",
    "sns.heatmap(corrMatrix, annot = True, cmap = 'coolwarm', fmt = \"0.2f\")\n",
    "plt.title('Correlation Matrix: NOX, TAX, and, INDUS')\n",
    "plt.savefig('corrMatrix.png')"
   ]
  },
  {
   "cell_type": "code",
   "execution_count": 31,
   "id": "4672bdc8-8ad7-4df5-92bb-1d10f45bf460",
   "metadata": {},
   "outputs": [
    {
     "data": {
      "image/png": "[encoded data removed]",
      "text/plain": [
       "<IPython.core.display.Image object>"
      ]
     },
     "execution_count": 31,
     "metadata": {},
     "output_type": "execute_result"
    }
   ],
   "source": [
    "from IPython.display import Image\n",
    "Image('corrMatrix.png')"
   ]
  },
  {
   "cell_type": "markdown",
   "id": "0a833234-ecbf-4648-919d-d924234f39dd",
   "metadata": {},
   "source": [
    "ii. \n",
    "corr matrix for BostonHousing.csv"
   ]
  },
  {
   "cell_type": "code",
   "execution_count": 34,
   "id": "c0977409-b98f-4109-9a0d-31e5860cc5bc",
   "metadata": {},
   "outputs": [
    {
     "name": "stdout",
     "output_type": "stream",
     "text": [
      "               CRIM        ZN     INDUS      CHAS       NOX        RM  \\\n",
      "CRIM       1.000000 -0.200469  0.406583 -0.055892  0.420972 -0.219247   \n",
      "ZN        -0.200469  1.000000 -0.533828 -0.042697 -0.516604  0.311991   \n",
      "INDUS      0.406583 -0.533828  1.000000  0.062938  0.763651 -0.391676   \n",
      "CHAS      -0.055892 -0.042697  0.062938  1.000000  0.091203  0.091251   \n",
      "NOX        0.420972 -0.516604  0.763651  0.091203  1.000000 -0.302188   \n",
      "RM        -0.219247  0.311991 -0.391676  0.091251 -0.302188  1.000000   \n",
      "AGE        0.352734 -0.569537  0.644779  0.086518  0.731470 -0.240265   \n",
      "DIS       -0.379670  0.664408 -0.708027 -0.099176 -0.769230  0.205246   \n",
      "RAD        0.625505 -0.311948  0.595129 -0.007368  0.611441 -0.209847   \n",
      "TAX        0.582764 -0.314563  0.720760 -0.035587  0.668023 -0.292048   \n",
      "PTRATIO    0.289946 -0.391679  0.383248 -0.121515  0.188933 -0.355501   \n",
      "LSTAT      0.455621 -0.412995  0.603800 -0.053929  0.590879 -0.613808   \n",
      "MEDV      -0.388305  0.360445 -0.483725  0.175260 -0.427321  0.695360   \n",
      "CAT. MEDV -0.151987  0.365296 -0.366276  0.108631 -0.232502  0.641265   \n",
      "\n",
      "                AGE       DIS       RAD       TAX   PTRATIO     LSTAT  \\\n",
      "CRIM       0.352734 -0.379670  0.625505  0.582764  0.289946  0.455621   \n",
      "ZN        -0.569537  0.664408 -0.311948 -0.314563 -0.391679 -0.412995   \n",
      "INDUS      0.644779 -0.708027  0.595129  0.720760  0.383248  0.603800   \n",
      "CHAS       0.086518 -0.099176 -0.007368 -0.035587 -0.121515 -0.053929   \n",
      "NOX        0.731470 -0.769230  0.611441  0.668023  0.188933  0.590879   \n",
      "RM        -0.240265  0.205246 -0.209847 -0.292048 -0.355501 -0.613808   \n",
      "AGE        1.000000 -0.747881  0.456022  0.506456  0.261515  0.602339   \n",
      "DIS       -0.747881  1.000000 -0.494588 -0.534432 -0.232471 -0.496996   \n",
      "RAD        0.456022 -0.494588  1.000000  0.910228  0.464741  0.488676   \n",
      "TAX        0.506456 -0.534432  0.910228  1.000000  0.460853  0.543993   \n",
      "PTRATIO    0.261515 -0.232471  0.464741  0.460853  1.000000  0.374044   \n",
      "LSTAT      0.602339 -0.496996  0.488676  0.543993  0.374044  1.000000   \n",
      "MEDV      -0.376955  0.249929 -0.381626 -0.468536 -0.507787 -0.737663   \n",
      "CAT. MEDV -0.191196  0.118887 -0.197924 -0.273687 -0.443425 -0.469911   \n",
      "\n",
      "               MEDV  CAT. MEDV  \n",
      "CRIM      -0.388305  -0.151987  \n",
      "ZN         0.360445   0.365296  \n",
      "INDUS     -0.483725  -0.366276  \n",
      "CHAS       0.175260   0.108631  \n",
      "NOX       -0.427321  -0.232502  \n",
      "RM         0.695360   0.641265  \n",
      "AGE       -0.376955  -0.191196  \n",
      "DIS        0.249929   0.118887  \n",
      "RAD       -0.381626  -0.197924  \n",
      "TAX       -0.468536  -0.273687  \n",
      "PTRATIO   -0.507787  -0.443425  \n",
      "LSTAT     -0.737663  -0.469911  \n",
      "MEDV       1.000000   0.789789  \n",
      "CAT. MEDV  0.789789   1.000000  \n"
     ]
    }
   ],
   "source": [
    "bostonMatrix = bostonDF.corr()\n",
    "print(bostonMatrix)"
   ]
  },
  {
   "cell_type": "code",
   "execution_count": 36,
   "id": "06e9b022-d686-4309-8816-0f4481d12596",
   "metadata": {},
   "outputs": [
    {
     "name": "stdout",
     "output_type": "stream",
     "text": [
      "CRIM       CRIM         1.000000\n",
      "ZN         ZN           1.000000\n",
      "MEDV       MEDV         1.000000\n",
      "LSTAT      LSTAT        1.000000\n",
      "PTRATIO    PTRATIO      1.000000\n",
      "TAX        TAX          1.000000\n",
      "RAD        RAD          1.000000\n",
      "DIS        DIS          1.000000\n",
      "AGE        AGE          1.000000\n",
      "RM         RM           1.000000\n",
      "NOX        NOX          1.000000\n",
      "CHAS       CHAS         1.000000\n",
      "INDUS      INDUS        1.000000\n",
      "CAT. MEDV  CAT. MEDV    1.000000\n",
      "RAD        TAX          0.910228\n",
      "TAX        RAD          0.910228\n",
      "MEDV       CAT. MEDV    0.789789\n",
      "CAT. MEDV  MEDV         0.789789\n",
      "NOX        DIS          0.769230\n",
      "DIS        NOX          0.769230\n",
      "NOX        INDUS        0.763651\n",
      "INDUS      NOX          0.763651\n",
      "DIS        AGE          0.747881\n",
      "AGE        DIS          0.747881\n",
      "MEDV       LSTAT        0.737663\n",
      "dtype: float64\n"
     ]
    }
   ],
   "source": [
    "sortedBoston = bostonMatrix.abs()\n",
    "pairsBoston = sortedBoston.stack()\n",
    "sortedpairs = pairsBoston.sort_values(ascending = False) \n",
    "print(sortedpairs.head(25))"
   ]
  },
  {
   "cell_type": "markdown",
   "id": "5901d52e-350d-472e-8c66-c06880145182",
   "metadata": {},
   "source": [
    "iii. step wise regression"
   ]
  },
  {
   "cell_type": "markdown",
   "id": "8f9b72d2-9669-48f5-a3b0-894ec0e35c39",
   "metadata": {},
   "source": [
    "backward: \n"
   ]
  },
  {
   "cell_type": "code",
   "execution_count": 40,
   "id": "eab08451-3586-4914-9a15-32a0b8a61acc",
   "metadata": {},
   "outputs": [],
   "source": [
    "bostonx = bostonDF.drop(columns = ['MEDV'])\n",
    "bostony = bostonDF['MEDV']\n",
    "train_bostonx, valid_bostonx, train_bostony, valid_bostony = train_test_split(bostonx, bostony, test_size = 0.4, random_state = 1)"
   ]
  },
  {
   "cell_type": "code",
   "execution_count": 42,
   "id": "83fa99c1-c72c-4ed3-9ef1-724d1f251170",
   "metadata": {},
   "outputs": [],
   "source": [
    "def train_model(variables): \n",
    "    model = LinearRegression()\n",
    "    model.fit(train_bostonx[variables], train_bostony)\n",
    "    return model"
   ]
  },
  {
   "cell_type": "code",
   "execution_count": 44,
   "id": "eb2dfc83-0db6-46da-af60-5278ca5af3ee",
   "metadata": {},
   "outputs": [],
   "source": [
    "def score_model(model, variables):\n",
    "    return AIC_score(train_bostony, model.predict(train_bostonx[variables]), model)"
   ]
  },
  {
   "cell_type": "code",
   "execution_count": 46,
   "id": "a9eeb20b-fd60-4157-9a23-489962d3ea82",
   "metadata": {},
   "outputs": [
    {
     "name": "stdout",
     "output_type": "stream",
     "text": [
      "Variables: CRIM, ZN, INDUS, CHAS, NOX, RM, AGE, DIS, RAD, TAX, PTRATIO, LSTAT, CAT. MEDV\n",
      "Start: score=1663.52\n",
      "Step: score=1661.68, remove AGE\n",
      "Step: score=1660.02, remove ZN\n",
      "Step: score=1660.02, remove None\n",
      "['CRIM', 'INDUS', 'CHAS', 'NOX', 'RM', 'DIS', 'RAD', 'TAX', 'PTRATIO', 'LSTAT', 'CAT. MEDV']\n"
     ]
    }
   ],
   "source": [
    "allVariables = train_bostonx.columns\n",
    "best_model, best_backward = backward_elimination(allVariables, train_model, score_model, verbose = True)\n",
    "print(best_backward)"
   ]
  },
  {
   "cell_type": "code",
   "execution_count": 48,
   "id": "d9ac9017-5e11-4e7f-b8da-e81d2b08006a",
   "metadata": {},
   "outputs": [
    {
     "name": "stdout",
     "output_type": "stream",
     "text": [
      "\n",
      "Regression statistics\n",
      "\n",
      "                      Mean Error (ME) : 0.4505\n",
      "       Root Mean Squared Error (RMSE) : 3.8674\n",
      "            Mean Absolute Error (MAE) : 2.7724\n",
      "          Mean Percentage Error (MPE) : -2.1963\n",
      "Mean Absolute Percentage Error (MAPE) : 13.3441\n"
     ]
    }
   ],
   "source": [
    "regressionSummary(valid_bostony, best_model.predict(valid_bostonx[best_backward]))"
   ]
  },
  {
   "cell_type": "markdown",
   "id": "3ab894a2-ec4e-414f-9182-549ce3b6ec9d",
   "metadata": {},
   "source": [
    "forward:"
   ]
  },
  {
   "cell_type": "code",
   "execution_count": 51,
   "id": "cfed5f57-2003-4643-803c-4d9370d48c99",
   "metadata": {},
   "outputs": [],
   "source": [
    "def train_model(variables):\n",
    "    if len(variables) == 0:\n",
    "        return None\n",
    "    model = LinearRegression()\n",
    "    model.fit(train_bostonx[variables], train_bostony)\n",
    "    return model"
   ]
  },
  {
   "cell_type": "code",
   "execution_count": 53,
   "id": "7f74fefa-5122-427d-9d2d-b36fe5154753",
   "metadata": {},
   "outputs": [],
   "source": [
    "def score_model(model, variables):\n",
    "    if len (variables) == 0:\n",
    "        return AIC_score(train_bostony, [train_bostony.mean()] * len(train_bostony), model, df = 1)\n",
    "    return AIC_score(train_bostony, model.predict(train_bostonx[variables]), model)"
   ]
  },
  {
   "cell_type": "code",
   "execution_count": 55,
   "id": "6686ce09-371d-484d-b1e9-5bda4dea864e",
   "metadata": {},
   "outputs": [
    {
     "name": "stdout",
     "output_type": "stream",
     "text": [
      "Variables: CRIM, ZN, INDUS, CHAS, NOX, RM, AGE, DIS, RAD, TAX, PTRATIO, LSTAT, CAT. MEDV\n",
      "Start: score=2191.75, constant\n",
      "Step: score=1911.93, add CAT. MEDV\n",
      "Step: score=1716.45, add LSTAT\n",
      "Step: score=1699.98, add CRIM\n",
      "Step: score=1692.34, add CHAS\n",
      "Step: score=1685.94, add PTRATIO\n",
      "Step: score=1682.90, add RM\n",
      "Step: score=1680.20, add DIS\n",
      "Step: score=1665.78, add NOX\n",
      "Step: score=1660.42, add RAD\n",
      "Step: score=1660.42, add None\n",
      "['CAT. MEDV', 'LSTAT', 'CRIM', 'CHAS', 'PTRATIO', 'RM', 'DIS', 'NOX', 'RAD']\n"
     ]
    }
   ],
   "source": [
    "best_model, best_forward = forward_selection(train_bostonx.columns, train_model, score_model, verbose = True)\n",
    "print(best_forward)"
   ]
  },
  {
   "cell_type": "code",
   "execution_count": 57,
   "id": "86963db2-c6c5-4cdb-b457-2912da1bf5cf",
   "metadata": {},
   "outputs": [
    {
     "name": "stdout",
     "output_type": "stream",
     "text": [
      "\n",
      "Regression statistics\n",
      "\n",
      "                      Mean Error (ME) : 0.4321\n",
      "       Root Mean Squared Error (RMSE) : 3.9314\n",
      "            Mean Absolute Error (MAE) : 2.8585\n",
      "          Mean Percentage Error (MPE) : -2.3792\n",
      "Mean Absolute Percentage Error (MAPE) : 13.8040\n"
     ]
    }
   ],
   "source": [
    "regressionSummary(valid_bostony, best_model.predict(valid_bostonx[best_forward]))"
   ]
  },
  {
   "cell_type": "markdown",
   "id": "4cccf632-b6f2-46c1-945f-a727981c86bf",
   "metadata": {},
   "source": [
    "stepwise:"
   ]
  },
  {
   "cell_type": "code",
   "execution_count": 60,
   "id": "6582e785-a37a-4540-aff9-78ede8bf142c",
   "metadata": {},
   "outputs": [
    {
     "name": "stdout",
     "output_type": "stream",
     "text": [
      "Variables: CRIM, ZN, INDUS, CHAS, NOX, RM, AGE, DIS, RAD, TAX, PTRATIO, LSTAT, CAT. MEDV\n",
      "Start: score=2191.75, constant\n",
      "Step: score=1911.93, add CAT. MEDV\n",
      "Step: score=1716.45, add LSTAT\n",
      "Step: score=1699.98, add CRIM\n",
      "Step: score=1692.34, add CHAS\n",
      "Step: score=1685.94, add PTRATIO\n",
      "Step: score=1682.90, add RM\n",
      "Step: score=1680.20, add DIS\n",
      "Step: score=1665.78, add NOX\n",
      "Step: score=1660.42, add RAD\n",
      "Step: score=1660.42, unchanged None\n",
      "['CAT. MEDV', 'LSTAT', 'CRIM', 'CHAS', 'PTRATIO', 'RM', 'DIS', 'NOX', 'RAD']\n"
     ]
    }
   ],
   "source": [
    "best_model, best_variables = stepwise_selection(train_bostonx.columns, train_model, score_model, verbose = True)\n",
    "print(best_variables)"
   ]
  },
  {
   "cell_type": "code",
   "execution_count": 62,
   "id": "72cf1f70-1b2a-404b-a9a0-929e9d8c8ed9",
   "metadata": {},
   "outputs": [
    {
     "name": "stdout",
     "output_type": "stream",
     "text": [
      "\n",
      "Regression statistics\n",
      "\n",
      "                      Mean Error (ME) : 0.4321\n",
      "       Root Mean Squared Error (RMSE) : 3.9314\n",
      "            Mean Absolute Error (MAE) : 2.8585\n",
      "          Mean Percentage Error (MPE) : -2.3792\n",
      "Mean Absolute Percentage Error (MAPE) : 13.8040\n"
     ]
    }
   ],
   "source": [
    "regressionSummary(valid_bostony, best_model.predict(valid_bostonx[best_variables]))"
   ]
  },
  {
   "cell_type": "code",
   "execution_count": null,
   "id": "10cf4822-ebdb-45c8-8262-8ba818810c50",
   "metadata": {},
   "outputs": [],
   "source": []
  }
 ],
 "metadata": {
  "kernelspec": {
   "display_name": "Python 3 (ipykernel)",
   "language": "python",
   "name": "python3"
  },
  "language_info": {
   "codemirror_mode": {
    "name": "ipython",
    "version": 3
   },
   "file_extension": ".py",
   "mimetype": "text/x-python",
   "name": "python",
   "nbconvert_exporter": "python",
   "pygments_lexer": "ipython3",
   "version": "3.11.7"
  }
 },
 "nbformat": 4,
 "nbformat_minor": 5
}
